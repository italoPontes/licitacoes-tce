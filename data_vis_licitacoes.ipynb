{
 "cells": [
  {
   "cell_type": "code",
   "execution_count": 4,
   "metadata": {},
   "outputs": [
    {
     "data": {
      "text/html": [
       "<div>\n",
       "<style scoped>\n",
       "    .dataframe tbody tr th:only-of-type {\n",
       "        vertical-align: middle;\n",
       "    }\n",
       "\n",
       "    .dataframe tbody tr th {\n",
       "        vertical-align: top;\n",
       "    }\n",
       "\n",
       "    .dataframe thead th {\n",
       "        text-align: right;\n",
       "    }\n",
       "</style>\n",
       "<table border=\"1\" class=\"dataframe\">\n",
       "  <thead>\n",
       "    <tr style=\"text-align: right;\">\n",
       "      <th></th>\n",
       "      <th>cod_unidade_gestora</th>\n",
       "      <th>ente</th>\n",
       "      <th>unidade_gestora</th>\n",
       "      <th>esfera</th>\n",
       "      <th>numero_licitacao</th>\n",
       "      <th>data_cadastro</th>\n",
       "      <th>data_homologacao</th>\n",
       "      <th>valor_estimado</th>\n",
       "      <th>objeto</th>\n",
       "      <th>tipo_objeto</th>\n",
       "      <th>...</th>\n",
       "      <th>numero_protocolo</th>\n",
       "      <th>tipo_protocolo</th>\n",
       "      <th>valor_proposta</th>\n",
       "      <th>valor_homologacao</th>\n",
       "      <th>valor_empenhado</th>\n",
       "      <th>valor_liquidado</th>\n",
       "      <th>valor_pago</th>\n",
       "      <th>valor_empenhado_total</th>\n",
       "      <th>valor_liquidado_total</th>\n",
       "      <th>valor_pago_total</th>\n",
       "    </tr>\n",
       "  </thead>\n",
       "  <tbody>\n",
       "    <tr>\n",
       "      <th>0</th>\n",
       "      <td>190001</td>\n",
       "      <td>GOVERNO DO ESTADO DA PARAÍBA</td>\n",
       "      <td>Secretaria de Estado da Administração</td>\n",
       "      <td>Estadual</td>\n",
       "      <td>00131/2023</td>\n",
       "      <td>2023-06-29</td>\n",
       "      <td>2024-01-26</td>\n",
       "      <td>1972205,86</td>\n",
       "      <td>Contratação de Empresa para Prestação de Servi...</td>\n",
       "      <td>Compras e Serviços</td>\n",
       "      <td>...</td>\n",
       "      <td>70023/23</td>\n",
       "      <td>Documento</td>\n",
       "      <td>1972205,86</td>\n",
       "      <td>1208981,83</td>\n",
       "      <td>NaN</td>\n",
       "      <td>NaN</td>\n",
       "      <td>NaN</td>\n",
       "      <td>NaN</td>\n",
       "      <td>NaN</td>\n",
       "      <td>NaN</td>\n",
       "    </tr>\n",
       "    <tr>\n",
       "      <th>1</th>\n",
       "      <td>190001</td>\n",
       "      <td>GOVERNO DO ESTADO DA PARAÍBA</td>\n",
       "      <td>Secretaria de Estado da Administração</td>\n",
       "      <td>Estadual</td>\n",
       "      <td>00131/2023</td>\n",
       "      <td>2023-06-29</td>\n",
       "      <td>2024-01-26</td>\n",
       "      <td>1972205,86</td>\n",
       "      <td>Contratação de Empresa para Prestação de Servi...</td>\n",
       "      <td>Compras e Serviços</td>\n",
       "      <td>...</td>\n",
       "      <td>70023/23</td>\n",
       "      <td>Documento</td>\n",
       "      <td>1972205,86</td>\n",
       "      <td>1208981,83</td>\n",
       "      <td>NaN</td>\n",
       "      <td>NaN</td>\n",
       "      <td>NaN</td>\n",
       "      <td>NaN</td>\n",
       "      <td>NaN</td>\n",
       "      <td>NaN</td>\n",
       "    </tr>\n",
       "    <tr>\n",
       "      <th>2</th>\n",
       "      <td>190001</td>\n",
       "      <td>GOVERNO DO ESTADO DA PARAÍBA</td>\n",
       "      <td>Secretaria de Estado da Administração</td>\n",
       "      <td>Estadual</td>\n",
       "      <td>00131/2023</td>\n",
       "      <td>2023-06-29</td>\n",
       "      <td>2024-01-26</td>\n",
       "      <td>1972205,86</td>\n",
       "      <td>Contratação de Empresa para Prestação de Servi...</td>\n",
       "      <td>Compras e Serviços</td>\n",
       "      <td>...</td>\n",
       "      <td>70023/23</td>\n",
       "      <td>Documento</td>\n",
       "      <td>1972205,86</td>\n",
       "      <td>1208981,83</td>\n",
       "      <td>NaN</td>\n",
       "      <td>NaN</td>\n",
       "      <td>NaN</td>\n",
       "      <td>NaN</td>\n",
       "      <td>NaN</td>\n",
       "      <td>NaN</td>\n",
       "    </tr>\n",
       "  </tbody>\n",
       "</table>\n",
       "<p>3 rows × 25 columns</p>\n",
       "</div>"
      ],
      "text/plain": [
       "   cod_unidade_gestora                          ente  \\\n",
       "0               190001  GOVERNO DO ESTADO DA PARAÍBA   \n",
       "1               190001  GOVERNO DO ESTADO DA PARAÍBA   \n",
       "2               190001  GOVERNO DO ESTADO DA PARAÍBA   \n",
       "\n",
       "                         unidade_gestora    esfera numero_licitacao  \\\n",
       "0  Secretaria de Estado da Administração  Estadual       00131/2023   \n",
       "1  Secretaria de Estado da Administração  Estadual       00131/2023   \n",
       "2  Secretaria de Estado da Administração  Estadual       00131/2023   \n",
       "\n",
       "  data_cadastro data_homologacao valor_estimado  \\\n",
       "0    2023-06-29       2024-01-26     1972205,86   \n",
       "1    2023-06-29       2024-01-26     1972205,86   \n",
       "2    2023-06-29       2024-01-26     1972205,86   \n",
       "\n",
       "                                              objeto         tipo_objeto  ...  \\\n",
       "0  Contratação de Empresa para Prestação de Servi...  Compras e Serviços  ...   \n",
       "1  Contratação de Empresa para Prestação de Servi...  Compras e Serviços  ...   \n",
       "2  Contratação de Empresa para Prestação de Servi...  Compras e Serviços  ...   \n",
       "\n",
       "   numero_protocolo tipo_protocolo valor_proposta valor_homologacao  \\\n",
       "0          70023/23      Documento     1972205,86        1208981,83   \n",
       "1          70023/23      Documento     1972205,86        1208981,83   \n",
       "2          70023/23      Documento     1972205,86        1208981,83   \n",
       "\n",
       "  valor_empenhado valor_liquidado valor_pago valor_empenhado_total  \\\n",
       "0             NaN             NaN        NaN                   NaN   \n",
       "1             NaN             NaN        NaN                   NaN   \n",
       "2             NaN             NaN        NaN                   NaN   \n",
       "\n",
       "  valor_liquidado_total valor_pago_total  \n",
       "0                   NaN              NaN  \n",
       "1                   NaN              NaN  \n",
       "2                   NaN              NaN  \n",
       "\n",
       "[3 rows x 25 columns]"
      ]
     },
     "execution_count": 4,
     "metadata": {},
     "output_type": "execute_result"
    }
   ],
   "source": [
    "import pandas as pd\n",
    "\n",
    "input_file = 'TCE-PB-Licitacoes_2024.csv'\n",
    "\n",
    "df = pd.read_csv(input_file, sep=';', encoding='latin-1')\n",
    "\n",
    "df.head(3)"
   ]
  },
  {
   "cell_type": "code",
   "execution_count": 9,
   "metadata": {},
   "outputs": [
    {
     "data": {
      "text/plain": [
       "2"
      ]
     },
     "execution_count": 9,
     "metadata": {},
     "output_type": "execute_result"
    }
   ],
   "source": [
    "df['tipo_protocolo'].nunique()"
   ]
  },
  {
   "cell_type": "code",
   "execution_count": 8,
   "metadata": {},
   "outputs": [
    {
     "data": {
      "text/plain": [
       "1084"
      ]
     },
     "execution_count": 8,
     "metadata": {},
     "output_type": "execute_result"
    }
   ],
   "source": [
    "df['numero_licitacao'].nunique()"
   ]
  },
  {
   "cell_type": "code",
   "execution_count": 7,
   "metadata": {},
   "outputs": [
    {
     "data": {
      "text/plain": [
       "2"
      ]
     },
     "execution_count": 7,
     "metadata": {},
     "output_type": "execute_result"
    }
   ],
   "source": [
    "df['esfera'].nunique()"
   ]
  },
  {
   "cell_type": "code",
   "execution_count": 5,
   "metadata": {},
   "outputs": [
    {
     "data": {
      "text/plain": [
       "224"
      ]
     },
     "execution_count": 5,
     "metadata": {},
     "output_type": "execute_result"
    }
   ],
   "source": [
    "df['ente'].nunique()"
   ]
  },
  {
   "cell_type": "code",
   "execution_count": 6,
   "metadata": {},
   "outputs": [
    {
     "data": {
      "text/plain": [
       "513"
      ]
     },
     "execution_count": 6,
     "metadata": {},
     "output_type": "execute_result"
    }
   ],
   "source": [
    "df['unidade_gestora'].nunique()"
   ]
  },
  {
   "cell_type": "code",
   "execution_count": 19,
   "metadata": {},
   "outputs": [],
   "source": [
    "def convert_float(value):\n",
    "    try:\n",
    "        new_value = str(value)\n",
    "        new_value = new_value.replace(',', '.')\n",
    "        new_value = float(new_value)\n",
    "        return new_value\n",
    "    except:\n",
    "        return value\n",
    "\n",
    "for column in ['valor_proposta', 'valor_homologacao',\n",
    "               'valor_empenhado', 'valor_pago']:\n",
    "    df[column] = df[column].apply(lambda x: convert_float(x))"
   ]
  },
  {
   "cell_type": "code",
   "execution_count": 20,
   "metadata": {},
   "outputs": [
    {
     "name": "stdout",
     "output_type": "stream",
     "text": [
      "0\n",
      "0\n",
      "14524\n",
      "14524\n"
     ]
    }
   ],
   "source": [
    "for column in ['valor_proposta', 'valor_homologacao',\n",
    "               'valor_empenhado', 'valor_pago']:\n",
    "    print(df[column].isna().sum())"
   ]
  },
  {
   "cell_type": "code",
   "execution_count": 22,
   "metadata": {},
   "outputs": [
    {
     "name": "stdout",
     "output_type": "stream",
     "text": [
      "  numero_licitacao  valor_homologacao  Proporção\n",
      "0       13004/2022        77081474.30       79.2\n",
      "1       11060/2023        40880535.65       42.0\n",
      "                           ente  valor_homologacao  Proporção\n",
      "0  GOVERNO DO ESTADO DA PARAÍBA         3886712.94        4.0\n",
      "1                          Sumé         3679225.55        3.8\n",
      "                      unidade_gestora  valor_homologacao  Proporção\n",
      "0       Secretaria de Estado da Saúde        15665151.74       16.1\n",
      "1  DEPARTAMENTO DE ESTRADAS E RODAGEM        12499367.13       12.8\n"
     ]
    }
   ],
   "source": [
    "top_k = 2\n",
    "column_analysis = 'valor_homologacao'\n",
    "global_mean = df[column_analysis].mean()\n",
    "\n",
    "for column in ['numero_licitacao', 'ente', 'unidade_gestora']:    \n",
    "    df_top = df.groupby(column)[column_analysis].mean()\n",
    "    df_top = pd.DataFrame(df_top.nlargest(top_k).reset_index())\n",
    "    df_top[column_analysis] = round(df_top[column_analysis], 2)\n",
    "    df_top['Proporção'] = round(df_top[column_analysis]/global_mean, 1)\n",
    "    print(df_top)\n"
   ]
  },
  {
   "cell_type": "code",
   "execution_count": null,
   "metadata": {},
   "outputs": [],
   "source": [
    "global_mean = df_2024['valor_remuneracao_total'].mean()\n",
    "df_top = df_2024.groupby('cpf_servidor')['valor_remuneracao_total'].mean()\n",
    "df_top = pd.DataFrame(df_top.nlargest(5).reset_index())\n",
    "df_top['valor_remuneracao_total'] = round(df_top['valor_remuneracao_total'], 2)\n",
    "df_top['Proporção'] = round(df_top['valor_remuneracao_total']/global_mean, 1)\n",
    "df_top"
   ]
  },
  {
   "cell_type": "code",
   "execution_count": null,
   "metadata": {},
   "outputs": [],
   "source": [
    "numero_licitacao\n",
    "unidade_gestora\n",
    "ente"
   ]
  },
  {
   "cell_type": "code",
   "execution_count": null,
   "metadata": {},
   "outputs": [],
   "source": []
  }
 ],
 "metadata": {
  "kernelspec": {
   "display_name": "ceos",
   "language": "python",
   "name": "python3"
  },
  "language_info": {
   "codemirror_mode": {
    "name": "ipython",
    "version": 3
   },
   "file_extension": ".py",
   "mimetype": "text/x-python",
   "name": "python",
   "nbconvert_exporter": "python",
   "pygments_lexer": "ipython3",
   "version": "3.12.2"
  }
 },
 "nbformat": 4,
 "nbformat_minor": 2
}
